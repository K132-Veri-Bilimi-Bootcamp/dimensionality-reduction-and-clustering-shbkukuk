{
 "cells": [
  {
   "cell_type": "markdown",
   "metadata": {
    "collapsed": true,
    "pycharm": {
     "name": "#%% md\n"
    }
   },
   "source": [
    "# ÖDEV 1: PCA yardımı ile Classification,\n",
    "\n",
    "Bu ödevde \"Credit Risk Prediction\" veri setini kullanacağız. Amacımız, verinin boyut sayısını düşürerek olabildiğince yüksek accuracy değerini alabilmek. Aşağıda verinin okunma ve temizlenme kısmını hazırlayıp vereceğim. Devamında ise yapmanız gerekenler:\n",
    "\n",
    "1. PCA kullanarak verinin boyutunu düşürmek\n",
    "    * Önce explained varience ratio değerini inceleyerek veriyi kaç boyuta düşürebileceğini kontrol et.\n",
    "    * Daha sonra farklı boyutlarda denemeler yaparak boyutu düşürülmüş verileri elde et.\n",
    "2. Classification modellerini dene\n",
    "    * Logistic Regression\n",
    "    * Random Forest\n",
    "    * ve eğer istersen herhangi bir modelle daha\n",
    "\n",
    "İsteğe bağlı olarak, verinin boyutunu düşürmek için diğer yöntemleri de kullanıp en yüksek accuracy değerini almayı deneyebilirsin."
   ]
  },
  {
   "cell_type": "code",
   "execution_count": 21,
   "metadata": {
    "collapsed": false,
    "pycharm": {
     "name": "#%%\n"
    }
   },
   "outputs": [],
   "source": [
    "import pandas as pd\n",
    "import numpy as np\n",
    "import matplotlib.pyplot as plt"
   ]
  },
  {
   "cell_type": "code",
   "execution_count": 22,
   "metadata": {
    "collapsed": false,
    "pycharm": {
     "name": "#%%\n"
    }
   },
   "outputs": [],
   "source": [
    "df: pd.DataFrame = pd.read_csv('./credit_risk_dataset.csv')"
   ]
  },
  {
   "cell_type": "code",
   "execution_count": 23,
   "metadata": {
    "collapsed": false,
    "pycharm": {
     "name": "#%%\n"
    }
   },
   "outputs": [
    {
     "name": "stdout",
     "output_type": "stream",
     "text": [
      "person_age                       0\n",
      "person_income                    0\n",
      "person_home_ownership            0\n",
      "person_emp_length              895\n",
      "loan_intent                      0\n",
      "loan_grade                       0\n",
      "loan_amnt                        0\n",
      "loan_int_rate                 3116\n",
      "loan_status                      0\n",
      "loan_percent_income              0\n",
      "cb_person_default_on_file        0\n",
      "cb_person_cred_hist_length       0\n",
      "dtype: int64\n"
     ]
    }
   ],
   "source": [
    "print(df.isnull().sum())"
   ]
  },
  {
   "cell_type": "code",
   "execution_count": 24,
   "metadata": {
    "collapsed": false,
    "pycharm": {
     "name": "#%%\n"
    }
   },
   "outputs": [],
   "source": [
    "# Null değerleri sütun ortalaması ile dolduruyoruz\n",
    "df[\"person_emp_length\"].fillna(df[\"person_emp_length\"].median(), inplace=True)\n",
    "df[\"loan_int_rate\"].fillna(df[\"loan_int_rate\"].median(), inplace=True)"
   ]
  },
  {
   "cell_type": "code",
   "execution_count": 25,
   "metadata": {
    "collapsed": false,
    "pycharm": {
     "name": "#%%\n"
    }
   },
   "outputs": [
    {
     "data": {
      "text/plain": [
       "165"
      ]
     },
     "execution_count": 25,
     "metadata": {},
     "output_type": "execute_result"
    }
   ],
   "source": [
    "df.duplicated().sum()"
   ]
  },
  {
   "cell_type": "code",
   "execution_count": 26,
   "metadata": {
    "collapsed": false,
    "pycharm": {
     "name": "#%%\n"
    }
   },
   "outputs": [],
   "source": [
    "df.drop_duplicates(inplace=True)"
   ]
  },
  {
   "cell_type": "code",
   "execution_count": 27,
   "metadata": {
    "collapsed": false,
    "pycharm": {
     "name": "#%%\n"
    }
   },
   "outputs": [
    {
     "data": {
      "text/html": [
       "<div>\n",
       "<style scoped>\n",
       "    .dataframe tbody tr th:only-of-type {\n",
       "        vertical-align: middle;\n",
       "    }\n",
       "\n",
       "    .dataframe tbody tr th {\n",
       "        vertical-align: top;\n",
       "    }\n",
       "\n",
       "    .dataframe thead th {\n",
       "        text-align: right;\n",
       "    }\n",
       "</style>\n",
       "<table border=\"1\" class=\"dataframe\">\n",
       "  <thead>\n",
       "    <tr style=\"text-align: right;\">\n",
       "      <th></th>\n",
       "      <th>count</th>\n",
       "      <th>mean</th>\n",
       "      <th>std</th>\n",
       "      <th>min</th>\n",
       "      <th>25%</th>\n",
       "      <th>50%</th>\n",
       "      <th>75%</th>\n",
       "      <th>max</th>\n",
       "    </tr>\n",
       "  </thead>\n",
       "  <tbody>\n",
       "    <tr>\n",
       "      <th>person_age</th>\n",
       "      <td>32416.0</td>\n",
       "      <td>27.747008</td>\n",
       "      <td>6.354100</td>\n",
       "      <td>20.00</td>\n",
       "      <td>23.00</td>\n",
       "      <td>26.00</td>\n",
       "      <td>30.00</td>\n",
       "      <td>144.00</td>\n",
       "    </tr>\n",
       "    <tr>\n",
       "      <th>person_income</th>\n",
       "      <td>32416.0</td>\n",
       "      <td>66091.640826</td>\n",
       "      <td>62015.580269</td>\n",
       "      <td>4000.00</td>\n",
       "      <td>38542.00</td>\n",
       "      <td>55000.00</td>\n",
       "      <td>79218.00</td>\n",
       "      <td>6000000.00</td>\n",
       "    </tr>\n",
       "    <tr>\n",
       "      <th>person_emp_length</th>\n",
       "      <td>32416.0</td>\n",
       "      <td>4.768880</td>\n",
       "      <td>4.090411</td>\n",
       "      <td>0.00</td>\n",
       "      <td>2.00</td>\n",
       "      <td>4.00</td>\n",
       "      <td>7.00</td>\n",
       "      <td>123.00</td>\n",
       "    </tr>\n",
       "    <tr>\n",
       "      <th>loan_amnt</th>\n",
       "      <td>32416.0</td>\n",
       "      <td>9593.845632</td>\n",
       "      <td>6322.730241</td>\n",
       "      <td>500.00</td>\n",
       "      <td>5000.00</td>\n",
       "      <td>8000.00</td>\n",
       "      <td>12250.00</td>\n",
       "      <td>35000.00</td>\n",
       "    </tr>\n",
       "    <tr>\n",
       "      <th>loan_int_rate</th>\n",
       "      <td>32416.0</td>\n",
       "      <td>11.014662</td>\n",
       "      <td>3.083050</td>\n",
       "      <td>5.42</td>\n",
       "      <td>8.49</td>\n",
       "      <td>10.99</td>\n",
       "      <td>13.11</td>\n",
       "      <td>23.22</td>\n",
       "    </tr>\n",
       "    <tr>\n",
       "      <th>loan_status</th>\n",
       "      <td>32416.0</td>\n",
       "      <td>0.218688</td>\n",
       "      <td>0.413363</td>\n",
       "      <td>0.00</td>\n",
       "      <td>0.00</td>\n",
       "      <td>0.00</td>\n",
       "      <td>0.00</td>\n",
       "      <td>1.00</td>\n",
       "    </tr>\n",
       "    <tr>\n",
       "      <th>loan_percent_income</th>\n",
       "      <td>32416.0</td>\n",
       "      <td>0.170250</td>\n",
       "      <td>0.106812</td>\n",
       "      <td>0.00</td>\n",
       "      <td>0.09</td>\n",
       "      <td>0.15</td>\n",
       "      <td>0.23</td>\n",
       "      <td>0.83</td>\n",
       "    </tr>\n",
       "    <tr>\n",
       "      <th>cb_person_cred_hist_length</th>\n",
       "      <td>32416.0</td>\n",
       "      <td>5.811297</td>\n",
       "      <td>4.059030</td>\n",
       "      <td>2.00</td>\n",
       "      <td>3.00</td>\n",
       "      <td>4.00</td>\n",
       "      <td>8.00</td>\n",
       "      <td>30.00</td>\n",
       "    </tr>\n",
       "  </tbody>\n",
       "</table>\n",
       "</div>"
      ],
      "text/plain": [
       "                              count          mean           std      min  \\\n",
       "person_age                  32416.0     27.747008      6.354100    20.00   \n",
       "person_income               32416.0  66091.640826  62015.580269  4000.00   \n",
       "person_emp_length           32416.0      4.768880      4.090411     0.00   \n",
       "loan_amnt                   32416.0   9593.845632   6322.730241   500.00   \n",
       "loan_int_rate               32416.0     11.014662      3.083050     5.42   \n",
       "loan_status                 32416.0      0.218688      0.413363     0.00   \n",
       "loan_percent_income         32416.0      0.170250      0.106812     0.00   \n",
       "cb_person_cred_hist_length  32416.0      5.811297      4.059030     2.00   \n",
       "\n",
       "                                 25%       50%       75%         max  \n",
       "person_age                     23.00     26.00     30.00      144.00  \n",
       "person_income               38542.00  55000.00  79218.00  6000000.00  \n",
       "person_emp_length               2.00      4.00      7.00      123.00  \n",
       "loan_amnt                    5000.00   8000.00  12250.00    35000.00  \n",
       "loan_int_rate                   8.49     10.99     13.11       23.22  \n",
       "loan_status                     0.00      0.00      0.00        1.00  \n",
       "loan_percent_income             0.09      0.15      0.23        0.83  \n",
       "cb_person_cred_hist_length      3.00      4.00      8.00       30.00  "
      ]
     },
     "execution_count": 27,
     "metadata": {},
     "output_type": "execute_result"
    }
   ],
   "source": [
    "df.describe().T"
   ]
  },
  {
   "cell_type": "code",
   "execution_count": 28,
   "metadata": {
    "collapsed": false,
    "pycharm": {
     "name": "#%%\n"
    }
   },
   "outputs": [],
   "source": [
    "# Outlier temizliği\n",
    "df = df[df['person_age']<=100]\n",
    "df = df[df['person_emp_length'] <= 60]\n",
    "df = df[df['person_income']<=4e6]"
   ]
  },
  {
   "cell_type": "code",
   "execution_count": 29,
   "metadata": {
    "collapsed": false,
    "pycharm": {
     "name": "#%%\n"
    }
   },
   "outputs": [
    {
     "data": {
      "text/plain": [
       "Index(['person_home_ownership', 'loan_intent', 'loan_grade',\n",
       "       'cb_person_default_on_file'],\n",
       "      dtype='object')"
      ]
     },
     "execution_count": 29,
     "metadata": {},
     "output_type": "execute_result"
    }
   ],
   "source": [
    "# Kategorik verileri alıyoruz ve one hot encoding haline getiriyoruz\n",
    "cat_cols = pd.DataFrame(df[df.select_dtypes(include=['object']).columns])\n",
    "cat_cols.columns"
   ]
  },
  {
   "cell_type": "code",
   "execution_count": 30,
   "metadata": {
    "collapsed": false,
    "pycharm": {
     "name": "#%%\n"
    }
   },
   "outputs": [],
   "source": [
    "encoded_cat_cols = pd.get_dummies(cat_cols)\n",
    "df.drop(df.select_dtypes(include=['object']).columns, axis=1,inplace=True)\n",
    "df = pd.concat([df,encoded_cat_cols], axis=1)"
   ]
  },
  {
   "cell_type": "code",
   "execution_count": 31,
   "metadata": {
    "collapsed": false,
    "pycharm": {
     "name": "#%%\n"
    }
   },
   "outputs": [],
   "source": [
    "X = df.drop('loan_status', axis=1).values\n",
    "y = df['loan_status'].values"
   ]
  },
  {
   "cell_type": "code",
   "execution_count": 32,
   "metadata": {
    "collapsed": false,
    "pycharm": {
     "name": "#%%\n"
    }
   },
   "outputs": [],
   "source": [
    "# Verileri train ve test olarak ikiye ayırıyoruz\n",
    "\n",
    "from sklearn.model_selection import StratifiedShuffleSplit\n",
    "\n",
    "split = StratifiedShuffleSplit(1, test_size=0.1)\n",
    "train_idx, test_idx = next(split.split(X, y))\n",
    "train_x = X[train_idx]\n",
    "test_x = X[test_idx]\n",
    "\n",
    "train_y = y[train_idx]\n",
    "test_y = y[test_idx]"
   ]
  },
  {
   "cell_type": "markdown",
   "metadata": {
    "collapsed": false,
    "pycharm": {
     "name": "#%% md\n"
    }
   },
   "source": [
    "_Sklearn Kütüphanesinin Decomposition modülünden PCA import Ediyoruz_\n"
   ]
  },
  {
   "cell_type": "code",
   "execution_count": 33,
   "metadata": {
    "collapsed": false,
    "pycharm": {
     "name": "#%%\n"
    }
   },
   "outputs": [
    {
     "data": {
      "text/plain": [
       "array([[ 1.65401089e-05,  9.99292208e-01,  1.14693155e-05,\n",
       "         3.76175727e-02,  1.71352827e-07, -5.85145438e-07,\n",
       "         9.42102862e-06,  2.16013888e-06,  1.50439134e-08,\n",
       "        -2.07986435e-07, -1.96719636e-06,  1.27233305e-08,\n",
       "        -1.40650345e-07,  3.15772896e-07, -2.93784868e-07,\n",
       "         5.61008894e-08,  4.98380972e-08,  6.17586888e-08,\n",
       "         4.07123262e-08, -1.38311291e-07, -6.65745236e-08,\n",
       "         6.53219330e-08,  3.20206621e-08,  5.07220475e-09,\n",
       "        -2.32311271e-08,  2.32311271e-08],\n",
       "       [-5.21569143e-06,  3.76175732e-02, -4.53053044e-05,\n",
       "        -9.99292204e-01, -7.68890031e-05, -1.24470247e-05,\n",
       "        -1.56651446e-06, -5.03644726e-06, -8.43923607e-08,\n",
       "         5.38302161e-07,  4.58253746e-06, -2.27528316e-08,\n",
       "         3.06048079e-07, -1.53882940e-06,  8.68866741e-07,\n",
       "         4.06985618e-07, -2.03182095e-08,  9.85668558e-06,\n",
       "        -3.29481707e-06,  1.77082321e-06, -4.13955101e-06,\n",
       "        -2.81568357e-06, -9.89117742e-07, -3.88339391e-07,\n",
       "         2.76608509e-06, -2.76608509e-06],\n",
       "       [ 8.44810060e-01, -1.97927334e-05,  1.14319712e-01,\n",
       "        -1.15507681e-05,  4.94909464e-03, -1.07155686e-04,\n",
       "         5.22644180e-01,  4.98033407e-04, -9.36755523e-05,\n",
       "         5.36364475e-04, -9.40722330e-04, -5.38978770e-04,\n",
       "        -5.21433880e-03,  3.13095123e-03,  1.46783246e-03,\n",
       "         1.71867278e-03, -5.64138898e-04, -2.06636538e-04,\n",
       "        -7.36742052e-04,  3.55401351e-04,  5.21276778e-04,\n",
       "        -1.42841901e-05,  4.01406666e-05,  4.08439846e-05,\n",
       "        -4.45040492e-04,  4.45040492e-04],\n",
       "       [-8.92854425e-02, -7.99408333e-06,  9.81257895e-01,\n",
       "        -3.27402373e-05, -1.49022319e-01, -1.76081342e-03,\n",
       "        -6.89671308e-02,  2.67928563e-02, -2.49797122e-04,\n",
       "         2.27569824e-03, -2.88187574e-02, -4.48545352e-05,\n",
       "        -1.74462835e-03,  6.33733488e-04, -9.45802946e-05,\n",
       "         1.38190922e-04,  1.11213877e-03,  1.87208925e-02,\n",
       "        -6.98604804e-04, -8.80858541e-03, -5.55679434e-03,\n",
       "        -2.61880083e-03, -9.78362675e-04, -5.97444428e-05,\n",
       "         9.17214258e-03, -9.17214258e-03],\n",
       "       [-2.06093262e-02,  1.74368598e-06,  1.50621162e-01,\n",
       "        -8.31348566e-05,  9.75496975e-01, -1.98108582e-05,\n",
       "        -9.07718735e-03, -1.71587627e-02,  1.95647196e-04,\n",
       "        -4.07213569e-04,  1.73703290e-02, -1.86222772e-04,\n",
       "        -1.45979090e-03,  1.77765664e-03,  9.25548160e-04,\n",
       "        -2.22891611e-04, -8.34299521e-04, -1.13555341e-01,\n",
       "        -2.11214558e-03,  4.73261416e-02,  4.56747882e-02,\n",
       "         1.61039757e-02,  4.89986464e-03,  1.66271692e-03,\n",
       "        -5.95699087e-02,  5.95699087e-02],\n",
       "       [ 5.27076935e-01, -5.41054421e-07, -1.10166306e-02,\n",
       "        -1.30326587e-06,  4.53359659e-03, -8.35897839e-04,\n",
       "        -8.49686236e-01,  9.31272586e-04, -1.11801988e-04,\n",
       "        -1.98516011e-03,  1.16568951e-03,  1.05433111e-03,\n",
       "        -4.28981809e-03,  4.75882675e-03,  1.57061735e-03,\n",
       "        -1.29895239e-03, -1.79500473e-03,  2.45245649e-04,\n",
       "        -2.11189255e-03, -7.39198426e-04,  1.25726770e-03,\n",
       "         1.18887526e-03,  2.53131622e-04, -9.34292647e-05,\n",
       "        -2.89277462e-03,  2.89277462e-03],\n",
       "       [-1.50631667e-03,  2.26765769e-06,  3.40636263e-02,\n",
       "         5.74674285e-06, -2.55014966e-02,  1.74793186e-02,\n",
       "        -2.42975122e-03, -6.67681496e-01, -7.51680306e-04,\n",
       "        -1.94477521e-02,  6.87880928e-01,  2.80041864e-03,\n",
       "        -8.66370309e-03, -3.04443658e-02,  5.62289807e-02,\n",
       "        -1.24139360e-02, -7.50739450e-03, -1.04723909e-01,\n",
       "         2.04929850e-01, -5.71053629e-02, -3.04681008e-02,\n",
       "        -8.30514919e-03, -3.10849127e-03, -1.21883704e-03,\n",
       "         9.19331103e-02, -9.19331103e-02],\n",
       "       [-2.94802680e-03,  4.68373209e-07,  8.73203487e-03,\n",
       "         7.67221759e-06, -4.43882843e-02,  5.16303799e-03,\n",
       "         2.16439465e-03, -1.85900698e-01, -2.19330287e-04,\n",
       "        -4.86813093e-03,  1.90988160e-01,  1.30888959e-02,\n",
       "         7.09007151e-03, -3.49955796e-03,  3.41761841e-04,\n",
       "        -1.50846672e-02, -1.93650411e-03,  2.73065185e-01,\n",
       "        -6.67184753e-01,  3.00592499e-01,  8.36794291e-02,\n",
       "         9.21567512e-03,  6.15100432e-04,  1.68644960e-05,\n",
       "        -3.93220906e-01,  3.93220906e-01],\n",
       "       [ 5.51857162e-03, -1.27553191e-07,  3.08191025e-03,\n",
       "         9.64887596e-07, -5.84971575e-02, -6.03615327e-04,\n",
       "        -8.62855043e-04,  3.29767329e-03, -7.41346555e-04,\n",
       "         3.21869894e-03, -5.77502568e-03, -8.50872807e-02,\n",
       "         7.13147287e-01, -1.82157710e-02, -3.77615596e-01,\n",
       "        -8.67942356e-02, -1.45434404e-01, -2.72509479e-01,\n",
       "         2.29573618e-01,  2.70427810e-01, -1.72832337e-01,\n",
       "        -3.80687446e-02, -1.25057725e-02, -4.08509517e-03,\n",
       "        -1.96803504e-01,  1.96803504e-01],\n",
       "       [ 3.26261427e-03,  1.18009212e-07,  1.60138356e-03,\n",
       "        -1.63742473e-06,  9.12519068e-02, -7.16232905e-04,\n",
       "        -6.22004635e-04, -3.89351182e-02, -1.65441640e-04,\n",
       "        -3.59732651e-03,  4.26978863e-02, -3.39738397e-02,\n",
       "         4.76509749e-01, -4.60527330e-04, -2.47208537e-01,\n",
       "        -6.32368494e-02, -1.31629996e-01,  3.94011793e-01,\n",
       "        -3.43792802e-01, -3.53699040e-01,  2.19173292e-01,\n",
       "         6.06317884e-02,  1.80666660e-02,  5.60830254e-03,\n",
       "         3.36927864e-01, -3.36927864e-01],\n",
       "       [-9.02820932e-04,  1.02367654e-07, -3.33428569e-04,\n",
       "         4.32345130e-07, -1.09043834e-03, -1.49136375e-03,\n",
       "         1.50854840e-03,  8.17033379e-02, -1.96089580e-03,\n",
       "        -9.20475851e-02,  1.23051430e-02, -4.64617866e-02,\n",
       "         1.94369298e-01, -1.78853802e-02,  7.00887526e-01,\n",
       "        -1.84466641e-01, -6.46443016e-01, -7.36056688e-03,\n",
       "        -3.71382759e-03,  3.03663046e-02, -1.59563651e-02,\n",
       "        -4.56629350e-03,  1.77322838e-03, -5.42479926e-04,\n",
       "         1.24583778e-03, -1.24583778e-03],\n",
       "       [ 2.16361252e-03,  1.09813375e-07, -9.23396399e-04,\n",
       "         1.48000771e-07,  5.92532980e-03,  1.93978619e-03,\n",
       "        -4.21326356e-04, -6.19675174e-02,  1.74196255e-03,\n",
       "         1.41469846e-01, -8.12442912e-02, -3.98570551e-01,\n",
       "         1.66555537e-01, -2.04426372e-02,  3.06303404e-01,\n",
       "        -6.11794576e-01,  5.57948822e-01,  1.56067339e-02,\n",
       "        -1.96740055e-02,  1.94143886e-02, -2.51931084e-02,\n",
       "         7.21698230e-03,  1.86648680e-03,  7.62522281e-04,\n",
       "         2.60888819e-02, -2.60888819e-02],\n",
       "       [ 5.63193804e-05, -1.05314486e-07,  1.88767865e-04,\n",
       "        -6.96273777e-07, -1.68357030e-03, -1.89563408e-03,\n",
       "         2.51702783e-03,  7.76793258e-02, -9.08613129e-04,\n",
       "        -1.36139152e-01,  5.93684390e-02,  7.60260821e-01,\n",
       "        -5.69097375e-02,  2.10239506e-02, -1.17287369e-01,\n",
       "        -6.13027228e-01,  5.93956240e-03, -1.70010994e-02,\n",
       "         1.80529794e-02,  3.02517328e-04, -2.02905206e-03,\n",
       "        -6.09135529e-04,  1.51575038e-03, -2.31960146e-04,\n",
       "        -5.95270921e-04,  5.95270921e-04],\n",
       "       [-1.35876702e-03,  5.16889727e-08, -1.22958083e-03,\n",
       "        -3.11880365e-06, -4.03727298e-02, -7.55105422e-04,\n",
       "         2.52835153e-03, -1.26282594e-02,  2.02994241e-03,\n",
       "         1.96331182e-02, -9.03480118e-03, -4.20510474e-02,\n",
       "         4.08812940e-02,  7.31898739e-02,  1.06624022e-03,\n",
       "        -5.43469609e-02, -1.87393997e-02, -2.63738489e-02,\n",
       "         2.21375451e-01, -6.49781677e-01,  4.50956202e-01,\n",
       "         7.33989392e-03, -2.42788109e-03, -1.08813943e-03,\n",
       "        -3.93881627e-01,  3.93881627e-01],\n",
       "       [-5.22349552e-03, -8.32350073e-08, -2.83779287e-04,\n",
       "        -7.75127641e-07, -1.80163387e-03, -1.32227529e-03,\n",
       "         2.07234657e-03, -8.89046094e-02,  1.45817080e-03,\n",
       "         1.27430584e-01, -3.99841453e-02, -1.74458170e-01,\n",
       "        -1.64356801e-01,  8.96813488e-01, -1.62302728e-01,\n",
       "        -1.84702349e-01, -2.10993440e-01, -1.35385032e-02,\n",
       "        -1.34949327e-02,  6.15173199e-02, -3.48269409e-02,\n",
       "         1.72054993e-03, -9.93284836e-04, -3.84208089e-04,\n",
       "         3.28214932e-02, -3.28214932e-02],\n",
       "       [ 1.42169773e-03,  3.37925019e-07, -1.63159679e-03,\n",
       "         7.96065451e-07,  6.82847683e-04,  1.90210714e-02,\n",
       "        -2.14415055e-03, -4.01421264e-01,  9.60989950e-03,\n",
       "         7.72484856e-01, -3.80673491e-01,  2.31246703e-01,\n",
       "         8.12546928e-03, -1.45092849e-01,  3.54364255e-02,\n",
       "         1.35984646e-02, -1.43314214e-01,  6.40609786e-04,\n",
       "         3.02679432e-03,  6.79657571e-03,  5.54108021e-04,\n",
       "        -1.04763972e-02, -1.53603565e-04, -3.88087089e-04,\n",
       "         2.57791226e-03, -2.57791226e-03],\n",
       "       [-3.98865156e-04, -9.64703277e-08,  6.52782450e-04,\n",
       "        -1.27889073e-06,  6.87814642e-02, -5.58839979e-03,\n",
       "         7.94910922e-04, -1.08648474e-02,  1.08065045e-03,\n",
       "         3.54795305e-03,  6.23624392e-03,  7.17104007e-03,\n",
       "        -1.72076520e-03,  7.20842509e-03, -3.28382082e-03,\n",
       "         2.80395663e-03, -1.21788358e-02,  3.94308074e-01,\n",
       "         1.14999293e-01, -2.98128900e-01, -7.19003725e-01,\n",
       "         4.14780678e-01,  7.14685405e-02,  2.15760394e-02,\n",
       "        -1.45988827e-01,  1.45988827e-01],\n",
       "       [-3.95825449e-04,  5.41409101e-08,  1.43922844e-04,\n",
       "        -1.27944662e-06, -6.80285608e-02,  8.19960378e-03,\n",
       "         7.29573899e-04, -4.01176780e-04,  2.09864428e-03,\n",
       "         5.36531328e-03, -7.06278078e-03,  2.24700501e-03,\n",
       "        -1.78235141e-03, -9.33778327e-03,  4.85287078e-03,\n",
       "         4.62115441e-03, -6.00895511e-04, -4.85369825e-01,\n",
       "        -2.40385573e-01, -2.32355972e-02,  1.28455623e-01,\n",
       "         8.09710571e-01, -1.48355985e-01, -4.08192144e-02,\n",
       "         5.17856349e-02, -5.17856349e-02],\n",
       "       [-2.05014024e-04,  2.08466626e-09,  3.01541493e-04,\n",
       "        -6.81406718e-07, -2.63475510e-02, -6.77028565e-03,\n",
       "         2.32680749e-04, -3.79706954e-03,  8.61672271e-03,\n",
       "        -1.57242680e-03, -3.24722637e-03, -1.27603673e-03,\n",
       "        -5.13164531e-04, -1.36178505e-03, -9.59470499e-04,\n",
       "         2.94894729e-03,  1.16150952e-03, -3.15613838e-01,\n",
       "        -2.24853871e-01, -1.56261506e-01, -1.09869645e-01,\n",
       "        -8.26020214e-02,  8.97413905e-01, -8.21302275e-03,\n",
       "         1.09719739e-02, -1.09719739e-02],\n",
       "       [ 3.91593040e-04,  9.80163162e-07,  1.15802293e-03,\n",
       "        -1.25902294e-05,  1.16543841e-03,  9.94681617e-01,\n",
       "        -6.94860738e-04, -7.70881696e-03,  8.54258003e-02,\n",
       "        -4.42433245e-02, -3.34736589e-02, -2.75684583e-03,\n",
       "         4.80330147e-04,  4.67823362e-03, -2.06227423e-03,\n",
       "        -5.66354838e-04,  2.26911121e-04,  4.68873666e-03,\n",
       "         1.09989567e-03, -3.47109674e-03, -5.38914544e-03,\n",
       "        -4.82039931e-03,  6.73858783e-03,  1.15342134e-03,\n",
       "        -8.92387490e-04,  8.92387491e-04],\n",
       "       [ 9.66302672e-05, -1.17815374e-07,  2.01119254e-04,\n",
       "         1.17799441e-06,  1.81270885e-05, -9.87506313e-02,\n",
       "         1.18723336e-05, -2.84873813e-01,  8.61676653e-01,\n",
       "        -2.95270549e-01, -2.81532290e-01, -4.86626003e-04,\n",
       "         7.97839921e-04, -5.26116139e-04,  6.10625105e-04,\n",
       "         3.68440384e-04, -7.64163244e-04,  4.42441197e-03,\n",
       "         3.26543546e-03,  4.80763443e-03,  1.93333916e-03,\n",
       "        -3.45945081e-04, -8.41302654e-03, -5.67184941e-03,\n",
       "         7.03668363e-04, -7.03668365e-04],\n",
       "       [ 3.45378688e-05,  1.20123754e-08, -1.73024677e-04,\n",
       "        -2.63989027e-07, -7.50621197e-03, -1.38631729e-03,\n",
       "        -7.88963298e-05, -2.23098709e-03,  5.32393264e-03,\n",
       "        -1.40941282e-03, -1.68353273e-03,  2.22290964e-04,\n",
       "         1.58101835e-04, -3.12655808e-04,  2.70177766e-04,\n",
       "         2.59481070e-04, -5.97395834e-04, -1.91511408e-01,\n",
       "        -1.66124347e-01, -1.47493276e-01, -1.34707027e-01,\n",
       "        -1.29751047e-01, -1.54996776e-01,  9.24583881e-01,\n",
       "         2.64872929e-03, -2.64872929e-03],\n",
       "       [-0.00000000e+00, -4.16088352e-18, -4.92655457e-16,\n",
       "         4.98112233e-17,  2.14105635e-14, -3.93945079e-12,\n",
       "         2.28809983e-15, -2.47374420e-01, -2.47374420e-01,\n",
       "        -2.47374420e-01, -2.47374420e-01, -3.49877045e-01,\n",
       "        -3.49877045e-01, -3.49877045e-01, -3.49877045e-01,\n",
       "        -3.49877045e-01, -3.49877045e-01,  3.04254690e-02,\n",
       "         3.04254690e-02,  3.04254690e-02,  3.04254690e-02,\n",
       "         3.04254690e-02,  3.04254690e-02,  3.04254690e-02,\n",
       "         8.44391538e-02,  8.44391538e-02],\n",
       "       [-0.00000000e+00,  1.63509173e-21, -1.39354121e-17,\n",
       "        -3.24180313e-20,  9.43312944e-18, -1.36074470e-15,\n",
       "         2.15395358e-18,  4.12615650e-01,  4.12615650e-01,\n",
       "         4.12615650e-01,  4.12615650e-01, -2.10210158e-01,\n",
       "        -2.10210158e-01, -2.10210158e-01, -2.10210158e-01,\n",
       "        -2.10210158e-01, -2.10210158e-01, -5.99029573e-02,\n",
       "        -5.99029573e-02, -5.99029573e-02, -5.99029573e-02,\n",
       "        -5.99029573e-02, -5.99029573e-02, -5.99029573e-02,\n",
       "        -1.19885125e-01, -1.19885125e-01],\n",
       "       [-0.00000000e+00,  2.53146383e-22, -1.03303409e-17,\n",
       "        -2.74790733e-21,  6.34380339e-17, -1.48447477e-17,\n",
       "         1.98015879e-20,  4.67449005e-02,  4.67449005e-02,\n",
       "         4.67449005e-02,  4.67449005e-02, -6.96198735e-03,\n",
       "        -6.96198735e-03, -6.96198735e-03, -6.96198735e-03,\n",
       "        -6.96198735e-03, -6.96198735e-03,  3.50708774e-01,\n",
       "         3.50708774e-01,  3.50708774e-01,  3.50708774e-01,\n",
       "         3.50708774e-01,  3.50708774e-01,  3.50708774e-01,\n",
       "        -2.54943456e-01, -2.54943456e-01],\n",
       "       [ 0.00000000e+00,  1.16295195e-21, -2.29530386e-17,\n",
       "        -2.08360494e-20,  6.42512019e-17, -5.34693671e-16,\n",
       "         5.13093153e-19,  1.27941924e-01,  1.27941924e-01,\n",
       "         1.27941924e-01,  1.27941924e-01,  3.99249563e-03,\n",
       "         3.99249563e-03,  3.99249563e-03,  3.99249563e-03,\n",
       "         3.99249563e-03,  3.99249563e-03,  1.23880689e-01,\n",
       "         1.23880689e-01,  1.23880689e-01,  1.23880689e-01,\n",
       "         1.23880689e-01,  1.23880689e-01,  1.23880689e-01,\n",
       "         6.43040761e-01,  6.43040761e-01]])"
      ]
     },
     "execution_count": 33,
     "metadata": {},
     "output_type": "execute_result"
    }
   ],
   "source": [
    "from sklearn.decomposition import PCA\n",
    "pca = PCA() #components vermiyoruz tüm ratio değerlerini görebilmek için.\n",
    "xD_train = pca.fit(train_x)\n",
    "pca.components_"
   ]
  },
  {
   "cell_type": "code",
   "execution_count": 34,
   "metadata": {},
   "outputs": [],
   "source": [
    "x_train_radio=np.cumsum(pca.explained_variance_ratio_)"
   ]
  },
  {
   "cell_type": "code",
   "execution_count": 35,
   "metadata": {},
   "outputs": [
    {
     "data": {
      "text/plain": [
       "<function matplotlib.pyplot.show(close=None, block=None)>"
      ]
     },
     "execution_count": 35,
     "metadata": {},
     "output_type": "execute_result"
    },
    {
     "data": {
      "image/png": "[encoded data removed]",
      "text/plain": [
       "<Figure size 432x288 with 1 Axes>"
      ]
     },
     "metadata": {
      "needs_background": "light"
     },
     "output_type": "display_data"
    }
   ],
   "source": [
    "x_dimension = np.arange(1,len(x_train_radio)+1)\n",
    "plt.title('CHOSING COMPONENT VALUE')\n",
    "plt.xlabel('X_DIMENSION')\n",
    "plt.ylabel('VARIANCE RADIO')\n",
    "plt.grid()\n",
    "plt.plot(x_dimension,x_train_radio,color='red')\n",
    "plt.show"
   ]
  },
  {
   "cell_type": "markdown",
   "metadata": {},
   "source": [
    "_GRAFİĞE BAKILIRSA 3 DIMENSİONDAN SONRA SABİTLENİYOR BU YÜZDEN 'n_component = 3' SEÇEREK FİT EDECEĞİZ_\n"
   ]
  },
  {
   "cell_type": "code",
   "execution_count": 73,
   "metadata": {},
   "outputs": [
    {
     "name": "stdout",
     "output_type": "stream",
     "text": [
      "(29168,)\n",
      "*******************\n"
     ]
    },
    {
     "data": {
      "text/plain": [
       "((29168, 1), (3241, 1))"
      ]
     },
     "execution_count": 73,
     "metadata": {},
     "output_type": "execute_result"
    }
   ],
   "source": [
    "pca = PCA(n_components=1)\n",
    "X3_train = pca.fit_transform(train_x)\n",
    "X3_test = pca.fit_transform(test_x)\n",
    "\n",
    "print(train_y.shape)\n",
    "print('*******************')\n",
    "(X3_train.shape) , X3_test.shape"
   ]
  },
  {
   "cell_type": "markdown",
   "metadata": {},
   "source": [
    "*Veri Kaybı:*"
   ]
  },
  {
   "cell_type": "code",
   "execution_count": 65,
   "metadata": {},
   "outputs": [
    {
     "data": {
      "text/plain": [
       "0.01471419879169833"
      ]
     },
     "execution_count": 65,
     "metadata": {},
     "output_type": "execute_result"
    }
   ],
   "source": [
    "1-X3_train.explained_variance_ratio_.sum()"
   ]
  },
  {
   "cell_type": "markdown",
   "metadata": {},
   "source": [
    "# Linear Regession Modeli"
   ]
  },
  {
   "cell_type": "code",
   "execution_count": 74,
   "metadata": {},
   "outputs": [],
   "source": [
    "from sklearn.linear_model import LinearRegression\n",
    "from sklearn.metrics import mean_squared_error, r2_score"
   ]
  },
  {
   "cell_type": "code",
   "execution_count": 76,
   "metadata": {},
   "outputs": [
    {
     "name": "stdout",
     "output_type": "stream",
     "text": [
      "The model mean square error is 0.16450621336186166\n",
      "^^^^^^^^^^^^^^^^**************^^^^^^^^^^^^^^\n",
      "The model R^2 score is 0.03743419064951581\n",
      "***********************^^^^^^^^^^^^^^^^^^^**************\n"
     ]
    },
    {
     "data": {
      "image/png": "[encoded data removed]",
      "text/plain": [
       "<Figure size 432x288 with 1 Axes>"
      ]
     },
     "metadata": {},
     "output_type": "display_data"
    }
   ],
   "source": [
    "LR = LinearRegression(fit_intercept=True)\n",
    "LR.fit(X3_train,train_y)\n",
    "predict_y = LR.predict(X3_test)\n",
    "#Model Scores\n",
    "print(f'The model mean square error is {mean_squared_error(test_y,predict_y)}')\n",
    "print('^^^^^^^^^^^^^^^^**************^^^^^^^^^^^^^^')\n",
    "print(f'The model R^2 score is {r2_score(test_y,predict_y)}')\n",
    "print('***********************^^^^^^^^^^^^^^^^^^^**************')\n",
    "\n",
    "#Model Plot\n",
    "plt.scatter(X3_test,test_y,color='red')\n",
    "plt.plot(X3_test,predict_y,color='blue',linewidth=3)\n",
    "plt.xticks(())\n",
    "plt.yticks(())\n",
    "\n",
    "plt.show() \n"
   ]
  },
  {
   "cell_type": "code",
   "execution_count": null,
   "metadata": {},
   "outputs": [],
   "source": []
  }
 ],
 "metadata": {
  "kernelspec": {
   "display_name": "Python 3",
   "language": "python",
   "name": "python3"
  },
  "language_info": {
   "codemirror_mode": {
    "name": "ipython",
    "version": 3
   },
   "file_extension": ".py",
   "mimetype": "text/x-python",
   "name": "python",
   "nbconvert_exporter": "python",
   "pygments_lexer": "ipython3",
   "version": "3.8.12"
  }
 },
 "nbformat": 4,
 "nbformat_minor": 0
}
